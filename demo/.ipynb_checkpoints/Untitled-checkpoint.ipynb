{
 "cells": [
  {
   "cell_type": "code",
   "execution_count": 3,
   "metadata": {
    "ExecuteTime": {
     "end_time": "2021-02-01T10:19:02.225330Z",
     "start_time": "2021-02-01T10:18:59.587098Z"
    }
   },
   "outputs": [],
   "source": [
    "import cv2\n",
    "import glob\n",
    "import numpy as np\n",
    "import sys\n",
    "import os.path\n",
    "import os\n",
    "import pandas as pd\n",
    "\n",
    "# from tracker import re3_tracker\n",
    "import xml.etree.cElementTree as ET\n",
    "# from read_cap import *\n",
    "\n",
    "import natsort \n"
   ]
  },
  {
   "cell_type": "code",
   "execution_count": 8,
   "metadata": {
    "ExecuteTime": {
     "end_time": "2021-02-01T10:21:49.695785Z",
     "start_time": "2021-02-01T10:21:49.679758Z"
    }
   },
   "outputs": [],
   "source": [
    "image_paths = natsort.natsorted(glob.glob(os.path.join('data', '*.jpg')))#path data\n",
    "i=27"
   ]
  },
  {
   "cell_type": "code",
   "execution_count": 9,
   "metadata": {
    "ExecuteTime": {
     "end_time": "2021-02-01T10:21:49.945164Z",
     "start_time": "2021-02-01T10:21:49.932179Z"
    }
   },
   "outputs": [
    {
     "data": {
      "text/plain": [
       "['data\\\\tea_plus_rootbeer140.jpg',\n",
       " 'data\\\\tea_plus_rootbeer145.jpg',\n",
       " 'data\\\\tea_plus_rootbeer150.jpg',\n",
       " 'data\\\\tea_plus_rootbeer155.jpg',\n",
       " 'data\\\\tea_plus_rootbeer160.jpg',\n",
       " 'data\\\\tea_plus_rootbeer165.jpg',\n",
       " 'data\\\\tea_plus_rootbeer170.jpg',\n",
       " 'data\\\\tea_plus_rootbeer175.jpg',\n",
       " 'data\\\\tea_plus_rootbeer180.jpg',\n",
       " 'data\\\\tea_plus_rootbeer185.jpg',\n",
       " 'data\\\\tea_plus_rootbeer190.jpg',\n",
       " 'data\\\\tea_plus_rootbeer195.jpg',\n",
       " 'data\\\\tea_plus_rootbeer200.jpg',\n",
       " 'data\\\\tea_plus_rootbeer205.jpg',\n",
       " 'data\\\\tea_plus_rootbeer210.jpg',\n",
       " 'data\\\\tea_plus_rootbeer215.jpg',\n",
       " 'data\\\\tea_plus_rootbeer220.jpg',\n",
       " 'data\\\\tea_plus_rootbeer225.jpg',\n",
       " 'data\\\\tea_plus_rootbeer230.jpg',\n",
       " 'data\\\\tea_plus_rootbeer235.jpg',\n",
       " 'data\\\\tea_plus_rootbeer240.jpg',\n",
       " 'data\\\\tea_plus_rootbeer245.jpg',\n",
       " 'data\\\\tea_plus_rootbeer250.jpg',\n",
       " 'data\\\\tea_plus_rootbeer255.jpg',\n",
       " 'data\\\\tea_plus_rootbeer260.jpg',\n",
       " 'data\\\\tea_plus_rootbeer265.jpg',\n",
       " 'data\\\\tea_plus_rootbeer270.jpg',\n",
       " 'data\\\\tea_plus_rootbeer275.jpg',\n",
       " 'data\\\\tea_plus_rootbeer280.jpg',\n",
       " 'data\\\\tea_plus_rootbeer285.jpg',\n",
       " 'data\\\\tea_plus_rootbeer290.jpg',\n",
       " 'data\\\\tea_plus_rootbeer295.jpg',\n",
       " 'data\\\\tea_plus_rootbeer300.jpg',\n",
       " 'data\\\\tea_plus_rootbeer305.jpg',\n",
       " 'data\\\\tea_plus_rootbeer310.jpg',\n",
       " 'data\\\\tea_plus_rootbeer315.jpg',\n",
       " 'data\\\\tea_plus_rootbeer320.jpg',\n",
       " 'data\\\\tea_plus_rootbeer325.jpg',\n",
       " 'data\\\\tea_plus_rootbeer330.jpg',\n",
       " 'data\\\\tea_plus_rootbeer335.jpg',\n",
       " 'data\\\\tea_plus_rootbeer340.jpg',\n",
       " 'data\\\\tea_plus_rootbeer345.jpg',\n",
       " 'data\\\\tea_plus_rootbeer350.jpg',\n",
       " 'data\\\\tea_plus_rootbeer355.jpg',\n",
       " 'data\\\\tea_plus_rootbeer360.jpg',\n",
       " 'data\\\\tea_plus_rootbeer365.jpg',\n",
       " 'data\\\\tea_plus_rootbeer370.jpg',\n",
       " 'data\\\\tea_plus_rootbeer375.jpg',\n",
       " 'data\\\\tea_plus_rootbeer380.jpg',\n",
       " 'data\\\\tea_plus_rootbeer385.jpg',\n",
       " 'data\\\\tea_plus_rootbeer390.jpg',\n",
       " 'data\\\\tea_plus_rootbeer395.jpg',\n",
       " 'data\\\\tea_plus_rootbeer400.jpg',\n",
       " 'data\\\\tea_plus_rootbeer405.jpg',\n",
       " 'data\\\\tea_plus_rootbeer410.jpg',\n",
       " 'data\\\\tea_plus_rootbeer415.jpg',\n",
       " 'data\\\\tea_plus_rootbeer420.jpg',\n",
       " 'data\\\\tea_plus_rootbeer425.jpg',\n",
       " 'data\\\\tea_plus_rootbeer430.jpg',\n",
       " 'data\\\\tea_plus_rootbeer435.jpg',\n",
       " 'data\\\\tea_plus_rootbeer440.jpg',\n",
       " 'data\\\\tea_plus_rootbeer445.jpg',\n",
       " 'data\\\\tea_plus_rootbeer450.jpg',\n",
       " 'data\\\\tea_plus_rootbeer455.jpg',\n",
       " 'data\\\\tea_plus_rootbeer460.jpg',\n",
       " 'data\\\\tea_plus_rootbeer465.jpg',\n",
       " 'data\\\\tea_plus_rootbeer470.jpg',\n",
       " 'data\\\\tea_plus_rootbeer475.jpg',\n",
       " 'data\\\\tea_plus_rootbeer480.jpg',\n",
       " 'data\\\\tea_plus_rootbeer485.jpg',\n",
       " 'data\\\\tea_plus_rootbeer490.jpg',\n",
       " 'data\\\\tea_plus_rootbeer495.jpg',\n",
       " 'data\\\\tea_plus_rootbeer500.jpg',\n",
       " 'data\\\\tea_plus_rootbeer505.jpg',\n",
       " 'data\\\\tea_plus_rootbeer510.jpg',\n",
       " 'data\\\\tea_plus_rootbeer515.jpg',\n",
       " 'data\\\\tea_plus_rootbeer520.jpg',\n",
       " 'data\\\\tea_plus_rootbeer525.jpg',\n",
       " 'data\\\\tea_plus_rootbeer530.jpg',\n",
       " 'data\\\\tea_plus_rootbeer535.jpg',\n",
       " 'data\\\\tea_plus_rootbeer540.jpg',\n",
       " 'data\\\\tea_plus_rootbeer545.jpg',\n",
       " 'data\\\\tea_plus_rootbeer550.jpg',\n",
       " 'data\\\\tea_plus_rootbeer555.jpg',\n",
       " 'data\\\\tea_plus_rootbeer560.jpg',\n",
       " 'data\\\\tea_plus_rootbeer565.jpg',\n",
       " 'data\\\\tea_plus_rootbeer570.jpg',\n",
       " 'data\\\\tea_plus_rootbeer575.jpg',\n",
       " 'data\\\\tea_plus_rootbeer580.jpg',\n",
       " 'data\\\\tea_plus_rootbeer585.jpg',\n",
       " 'data\\\\tea_plus_rootbeer590.jpg',\n",
       " 'data\\\\tea_plus_rootbeer595.jpg',\n",
       " 'data\\\\tea_plus_rootbeer600.jpg',\n",
       " 'data\\\\tea_plus_rootbeer605.jpg',\n",
       " 'data\\\\tea_plus_rootbeer610.jpg',\n",
       " 'data\\\\tea_plus_rootbeer615.jpg',\n",
       " 'data\\\\tea_plus_rootbeer620.jpg',\n",
       " 'data\\\\tea_plus_rootbeer625.jpg',\n",
       " 'data\\\\tea_plus_rootbeer630.jpg',\n",
       " 'data\\\\tea_plus_rootbeer635.jpg',\n",
       " 'data\\\\tea_plus_rootbeer640.jpg',\n",
       " 'data\\\\tea_plus_rootbeer645.jpg',\n",
       " 'data\\\\tea_plus_rootbeer650.jpg',\n",
       " 'data\\\\tea_plus_rootbeer655.jpg',\n",
       " 'data\\\\tea_plus_rootbeer660.jpg',\n",
       " 'data\\\\tea_plus_rootbeer665.jpg',\n",
       " 'data\\\\tea_plus_rootbeer670.jpg']"
      ]
     },
     "execution_count": 9,
     "metadata": {},
     "output_type": "execute_result"
    }
   ],
   "source": [
    "image_paths[i:]"
   ]
  },
  {
   "cell_type": "code",
   "execution_count": 16,
   "metadata": {
    "ExecuteTime": {
     "end_time": "2021-02-03T02:27:38.530213Z",
     "start_time": "2021-02-03T02:27:38.518243Z"
    }
   },
   "outputs": [],
   "source": [
    "bb1={'x1':173,'y1':210,'x2':244,'y2':446}\n",
    "bb2={'x1':225,'y1':208,'x2':284,'y2':446}\n"
   ]
  },
  {
   "cell_type": "code",
   "execution_count": 17,
   "metadata": {
    "ExecuteTime": {
     "end_time": "2021-02-03T02:27:38.702230Z",
     "start_time": "2021-02-03T02:27:38.694203Z"
    }
   },
   "outputs": [],
   "source": [
    "x_left=max(bb1['x1'],bb2['x1'])\n",
    "y_top=max(bb1['y1'],bb2['y2'])\n",
    "x_right =min(bb1['x2'],bb2['x2'])\n",
    "y_bottom = min(bb1['y2'],bb2['y2'])"
   ]
  },
  {
   "cell_type": "code",
   "execution_count": 18,
   "metadata": {
    "ExecuteTime": {
     "end_time": "2021-02-03T02:27:38.858456Z",
     "start_time": "2021-02-03T02:27:38.854466Z"
    }
   },
   "outputs": [],
   "source": [
    "if x_right < x_left or y_bottom < y_top:\n",
    "    overlap=0"
   ]
  },
  {
   "cell_type": "code",
   "execution_count": 19,
   "metadata": {
    "ExecuteTime": {
     "end_time": "2021-02-03T02:27:39.044103Z",
     "start_time": "2021-02-03T02:27:39.027100Z"
    }
   },
   "outputs": [],
   "source": [
    "intersection_area=(x_right - x_left)*(y_bottom-y_top)"
   ]
  },
  {
   "cell_type": "code",
   "execution_count": 20,
   "metadata": {
    "ExecuteTime": {
     "end_time": "2021-02-03T02:27:39.201213Z",
     "start_time": "2021-02-03T02:27:39.194250Z"
    }
   },
   "outputs": [],
   "source": [
    "bb1_area = (bb1['x2']-bb1['x1'])*(bb1['y2']-bb1['y1'])\n",
    "bb2_area =(bb2['x2']-bb2['x1'])*(bb2['y2']-bb2['y1'])"
   ]
  },
  {
   "cell_type": "code",
   "execution_count": 21,
   "metadata": {
    "ExecuteTime": {
     "end_time": "2021-02-03T02:27:39.404481Z",
     "start_time": "2021-02-03T02:27:39.394477Z"
    }
   },
   "outputs": [],
   "source": [
    "iou = intersection_area / float(bb1_area +bb2_area -intersection_area)"
   ]
  },
  {
   "cell_type": "code",
   "execution_count": 22,
   "metadata": {
    "ExecuteTime": {
     "end_time": "2021-02-03T02:27:39.700625Z",
     "start_time": "2021-02-03T02:27:39.694588Z"
    }
   },
   "outputs": [
    {
     "data": {
      "text/plain": [
       "0.0"
      ]
     },
     "execution_count": 22,
     "metadata": {},
     "output_type": "execute_result"
    }
   ],
   "source": [
    "iou"
   ]
  },
  {
   "cell_type": "code",
   "execution_count": 23,
   "metadata": {
    "ExecuteTime": {
     "end_time": "2021-02-03T02:31:06.585855Z",
     "start_time": "2021-02-03T02:31:06.566850Z"
    }
   },
   "outputs": [],
   "source": [
    "def cal_iou(bb1,bb2):\n",
    "    x_left=max(bb1['x1'],bb2['x1'])\n",
    "    y_top=max(bb1['y1'],bb2['y2'])\n",
    "    x_right =min(bb1['x2'],bb2['x2'])\n",
    "    y_bottom = min(bb1['y2'],bb2['y2'])\n",
    "    if x_right < x_left or y_bottom < y_top:\n",
    "        return 0.0\n",
    "    intersection_area=(x_right - x_left)*(y_bottom-y_top)\n",
    "    bb1_area = (bb1['x2']-bb1['x1'])*(bb1['y2']-bb1['y1'])\n",
    "    bb2_area =(bb2['x2']-bb2['x1'])*(bb2['y2']-bb2['y1'])\n",
    "    iou = intersection_area / float(bb1_area +bb2_area -intersection_area)\n",
    "    return iou\n",
    "    "
   ]
  },
  {
   "cell_type": "code",
   "execution_count": null,
   "metadata": {},
   "outputs": [],
   "source": []
  },
  {
   "cell_type": "code",
   "execution_count": null,
   "metadata": {},
   "outputs": [],
   "source": []
  }
 ],
 "metadata": {
  "kernelspec": {
   "display_name": "Python 3",
   "language": "python",
   "name": "python3"
  },
  "language_info": {
   "codemirror_mode": {
    "name": "ipython",
    "version": 3
   },
   "file_extension": ".py",
   "mimetype": "text/x-python",
   "name": "python",
   "nbconvert_exporter": "python",
   "pygments_lexer": "ipython3",
   "version": "3.7.1"
  }
 },
 "nbformat": 4,
 "nbformat_minor": 2
}
