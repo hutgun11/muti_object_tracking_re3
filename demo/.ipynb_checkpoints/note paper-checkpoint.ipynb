{
 "cells": [
  {
   "cell_type": "code",
   "execution_count": 3,
   "metadata": {
    "ExecuteTime": {
     "end_time": "2021-02-01T10:19:02.225330Z",
     "start_time": "2021-02-01T10:18:59.587098Z"
    }
   },
   "outputs": [],
   "source": [
    "import cv2\n",
    "import glob\n",
    "import numpy as np\n",
    "import sys\n",
    "import os.path\n",
    "import os\n",
    "import pandas as pd\n",
    "\n",
    "# from tracker import re3_tracker\n",
    "import xml.etree.cElementTree as ET\n",
    "# from read_cap import *\n",
    "\n",
    "import natsort \n"
   ]
  },
  {
   "cell_type": "code",
   "execution_count": 8,
   "metadata": {
    "ExecuteTime": {
     "end_time": "2021-02-01T10:21:49.695785Z",
     "start_time": "2021-02-01T10:21:49.679758Z"
    }
   },
   "outputs": [],
   "source": [
    "image_paths = natsort.natsorted(glob.glob(os.path.join('data', '*.jpg')))#path data\n",
    "i=27"
   ]
  },
  {
   "cell_type": "code",
   "execution_count": 9,
   "metadata": {
    "ExecuteTime": {
     "end_time": "2021-02-01T10:21:49.945164Z",
     "start_time": "2021-02-01T10:21:49.932179Z"
    }
   },
   "outputs": [
    {
     "data": {
      "text/plain": [
       "['data\\\\tea_plus_rootbeer140.jpg',\n",
       " 'data\\\\tea_plus_rootbeer145.jpg',\n",
       " 'data\\\\tea_plus_rootbeer150.jpg',\n",
       " 'data\\\\tea_plus_rootbeer155.jpg',\n",
       " 'data\\\\tea_plus_rootbeer160.jpg',\n",
       " 'data\\\\tea_plus_rootbeer165.jpg',\n",
       " 'data\\\\tea_plus_rootbeer170.jpg',\n",
       " 'data\\\\tea_plus_rootbeer175.jpg',\n",
       " 'data\\\\tea_plus_rootbeer180.jpg',\n",
       " 'data\\\\tea_plus_rootbeer185.jpg',\n",
       " 'data\\\\tea_plus_rootbeer190.jpg',\n",
       " 'data\\\\tea_plus_rootbeer195.jpg',\n",
       " 'data\\\\tea_plus_rootbeer200.jpg',\n",
       " 'data\\\\tea_plus_rootbeer205.jpg',\n",
       " 'data\\\\tea_plus_rootbeer210.jpg',\n",
       " 'data\\\\tea_plus_rootbeer215.jpg',\n",
       " 'data\\\\tea_plus_rootbeer220.jpg',\n",
       " 'data\\\\tea_plus_rootbeer225.jpg',\n",
       " 'data\\\\tea_plus_rootbeer230.jpg',\n",
       " 'data\\\\tea_plus_rootbeer235.jpg',\n",
       " 'data\\\\tea_plus_rootbeer240.jpg',\n",
       " 'data\\\\tea_plus_rootbeer245.jpg',\n",
       " 'data\\\\tea_plus_rootbeer250.jpg',\n",
       " 'data\\\\tea_plus_rootbeer255.jpg',\n",
       " 'data\\\\tea_plus_rootbeer260.jpg',\n",
       " 'data\\\\tea_plus_rootbeer265.jpg',\n",
       " 'data\\\\tea_plus_rootbeer270.jpg',\n",
       " 'data\\\\tea_plus_rootbeer275.jpg',\n",
       " 'data\\\\tea_plus_rootbeer280.jpg',\n",
       " 'data\\\\tea_plus_rootbeer285.jpg',\n",
       " 'data\\\\tea_plus_rootbeer290.jpg',\n",
       " 'data\\\\tea_plus_rootbeer295.jpg',\n",
       " 'data\\\\tea_plus_rootbeer300.jpg',\n",
       " 'data\\\\tea_plus_rootbeer305.jpg',\n",
       " 'data\\\\tea_plus_rootbeer310.jpg',\n",
       " 'data\\\\tea_plus_rootbeer315.jpg',\n",
       " 'data\\\\tea_plus_rootbeer320.jpg',\n",
       " 'data\\\\tea_plus_rootbeer325.jpg',\n",
       " 'data\\\\tea_plus_rootbeer330.jpg',\n",
       " 'data\\\\tea_plus_rootbeer335.jpg',\n",
       " 'data\\\\tea_plus_rootbeer340.jpg',\n",
       " 'data\\\\tea_plus_rootbeer345.jpg',\n",
       " 'data\\\\tea_plus_rootbeer350.jpg',\n",
       " 'data\\\\tea_plus_rootbeer355.jpg',\n",
       " 'data\\\\tea_plus_rootbeer360.jpg',\n",
       " 'data\\\\tea_plus_rootbeer365.jpg',\n",
       " 'data\\\\tea_plus_rootbeer370.jpg',\n",
       " 'data\\\\tea_plus_rootbeer375.jpg',\n",
       " 'data\\\\tea_plus_rootbeer380.jpg',\n",
       " 'data\\\\tea_plus_rootbeer385.jpg',\n",
       " 'data\\\\tea_plus_rootbeer390.jpg',\n",
       " 'data\\\\tea_plus_rootbeer395.jpg',\n",
       " 'data\\\\tea_plus_rootbeer400.jpg',\n",
       " 'data\\\\tea_plus_rootbeer405.jpg',\n",
       " 'data\\\\tea_plus_rootbeer410.jpg',\n",
       " 'data\\\\tea_plus_rootbeer415.jpg',\n",
       " 'data\\\\tea_plus_rootbeer420.jpg',\n",
       " 'data\\\\tea_plus_rootbeer425.jpg',\n",
       " 'data\\\\tea_plus_rootbeer430.jpg',\n",
       " 'data\\\\tea_plus_rootbeer435.jpg',\n",
       " 'data\\\\tea_plus_rootbeer440.jpg',\n",
       " 'data\\\\tea_plus_rootbeer445.jpg',\n",
       " 'data\\\\tea_plus_rootbeer450.jpg',\n",
       " 'data\\\\tea_plus_rootbeer455.jpg',\n",
       " 'data\\\\tea_plus_rootbeer460.jpg',\n",
       " 'data\\\\tea_plus_rootbeer465.jpg',\n",
       " 'data\\\\tea_plus_rootbeer470.jpg',\n",
       " 'data\\\\tea_plus_rootbeer475.jpg',\n",
       " 'data\\\\tea_plus_rootbeer480.jpg',\n",
       " 'data\\\\tea_plus_rootbeer485.jpg',\n",
       " 'data\\\\tea_plus_rootbeer490.jpg',\n",
       " 'data\\\\tea_plus_rootbeer495.jpg',\n",
       " 'data\\\\tea_plus_rootbeer500.jpg',\n",
       " 'data\\\\tea_plus_rootbeer505.jpg',\n",
       " 'data\\\\tea_plus_rootbeer510.jpg',\n",
       " 'data\\\\tea_plus_rootbeer515.jpg',\n",
       " 'data\\\\tea_plus_rootbeer520.jpg',\n",
       " 'data\\\\tea_plus_rootbeer525.jpg',\n",
       " 'data\\\\tea_plus_rootbeer530.jpg',\n",
       " 'data\\\\tea_plus_rootbeer535.jpg',\n",
       " 'data\\\\tea_plus_rootbeer540.jpg',\n",
       " 'data\\\\tea_plus_rootbeer545.jpg',\n",
       " 'data\\\\tea_plus_rootbeer550.jpg',\n",
       " 'data\\\\tea_plus_rootbeer555.jpg',\n",
       " 'data\\\\tea_plus_rootbeer560.jpg',\n",
       " 'data\\\\tea_plus_rootbeer565.jpg',\n",
       " 'data\\\\tea_plus_rootbeer570.jpg',\n",
       " 'data\\\\tea_plus_rootbeer575.jpg',\n",
       " 'data\\\\tea_plus_rootbeer580.jpg',\n",
       " 'data\\\\tea_plus_rootbeer585.jpg',\n",
       " 'data\\\\tea_plus_rootbeer590.jpg',\n",
       " 'data\\\\tea_plus_rootbeer595.jpg',\n",
       " 'data\\\\tea_plus_rootbeer600.jpg',\n",
       " 'data\\\\tea_plus_rootbeer605.jpg',\n",
       " 'data\\\\tea_plus_rootbeer610.jpg',\n",
       " 'data\\\\tea_plus_rootbeer615.jpg',\n",
       " 'data\\\\tea_plus_rootbeer620.jpg',\n",
       " 'data\\\\tea_plus_rootbeer625.jpg',\n",
       " 'data\\\\tea_plus_rootbeer630.jpg',\n",
       " 'data\\\\tea_plus_rootbeer635.jpg',\n",
       " 'data\\\\tea_plus_rootbeer640.jpg',\n",
       " 'data\\\\tea_plus_rootbeer645.jpg',\n",
       " 'data\\\\tea_plus_rootbeer650.jpg',\n",
       " 'data\\\\tea_plus_rootbeer655.jpg',\n",
       " 'data\\\\tea_plus_rootbeer660.jpg',\n",
       " 'data\\\\tea_plus_rootbeer665.jpg',\n",
       " 'data\\\\tea_plus_rootbeer670.jpg']"
      ]
     },
     "execution_count": 9,
     "metadata": {},
     "output_type": "execute_result"
    }
   ],
   "source": [
    "image_paths[i:]"
   ]
  },
  {
   "cell_type": "code",
   "execution_count": 33,
   "metadata": {
    "ExecuteTime": {
     "end_time": "2021-02-03T02:40:57.705387Z",
     "start_time": "2021-02-03T02:40:57.698334Z"
    }
   },
   "outputs": [],
   "source": [
    "bb1={'x1':511,'y1':41,'x2':577,'y2':76}\n",
    "bb2={'x1':544,'y1':59,'x2':610,'y2':94}\n"
   ]
  },
  {
   "cell_type": "code",
   "execution_count": 34,
   "metadata": {
    "ExecuteTime": {
     "end_time": "2021-02-03T02:40:57.907772Z",
     "start_time": "2021-02-03T02:40:57.902799Z"
    }
   },
   "outputs": [],
   "source": [
    "x_left=max(bb1['x1'],bb2['x1'])\n",
    "y_top=max(bb1['y1'],bb2['y2'])\n",
    "x_right =min(bb1['x2'],bb2['x2'])\n",
    "y_bottom = min(bb1['y2'],bb2['y2'])"
   ]
  },
  {
   "cell_type": "code",
   "execution_count": 35,
   "metadata": {
    "ExecuteTime": {
     "end_time": "2021-02-03T02:40:58.111267Z",
     "start_time": "2021-02-03T02:40:58.099277Z"
    }
   },
   "outputs": [],
   "source": [
    "if x_right < x_left or y_bottom < y_top:\n",
    "    overlap=0"
   ]
  },
  {
   "cell_type": "code",
   "execution_count": 36,
   "metadata": {
    "ExecuteTime": {
     "end_time": "2021-02-03T02:40:58.347147Z",
     "start_time": "2021-02-03T02:40:58.330113Z"
    }
   },
   "outputs": [],
   "source": [
    "intersection_area=(x_right - x_left)*(y_bottom-y_top)"
   ]
  },
  {
   "cell_type": "code",
   "execution_count": 43,
   "metadata": {
    "ExecuteTime": {
     "end_time": "2021-02-03T02:42:11.288571Z",
     "start_time": "2021-02-03T02:42:11.271571Z"
    }
   },
   "outputs": [
    {
     "name": "stdout",
     "output_type": "stream",
     "text": [
      "577 544 76 94\n"
     ]
    }
   ],
   "source": [
    "print(x_right,x_left,y_bottom,y_top)"
   ]
  },
  {
   "cell_type": "code",
   "execution_count": 37,
   "metadata": {
    "ExecuteTime": {
     "end_time": "2021-02-03T02:40:58.548008Z",
     "start_time": "2021-02-03T02:40:58.530044Z"
    }
   },
   "outputs": [],
   "source": [
    "bb1_area = (bb1['x2']-bb1['x1'])*(bb1['y2']-bb1['y1'])\n",
    "bb2_area =(bb2['x2']-bb2['x1'])*(bb2['y2']-bb2['y1'])"
   ]
  },
  {
   "cell_type": "code",
   "execution_count": 38,
   "metadata": {
    "ExecuteTime": {
     "end_time": "2021-02-03T02:40:58.733247Z",
     "start_time": "2021-02-03T02:40:58.722244Z"
    }
   },
   "outputs": [],
   "source": [
    "iou = intersection_area / float(bb1_area +bb2_area -intersection_area)"
   ]
  },
  {
   "cell_type": "code",
   "execution_count": 42,
   "metadata": {
    "ExecuteTime": {
     "end_time": "2021-02-03T02:41:36.914461Z",
     "start_time": "2021-02-03T02:41:36.907425Z"
    }
   },
   "outputs": [
    {
     "name": "stdout",
     "output_type": "stream",
     "text": [
      "-594 2310 2310\n"
     ]
    }
   ],
   "source": [
    "print(intersection_area,bb1_area,bb2_area)"
   ]
  },
  {
   "cell_type": "code",
   "execution_count": 41,
   "metadata": {
    "ExecuteTime": {
     "end_time": "2021-02-03T02:41:05.385277Z",
     "start_time": "2021-02-03T02:41:05.379278Z"
    }
   },
   "outputs": [
    {
     "data": {
      "text/plain": [
       "11.39240506329114"
      ]
     },
     "execution_count": 41,
     "metadata": {},
     "output_type": "execute_result"
    }
   ],
   "source": [
    "abs(iou*100)"
   ]
  },
  {
   "cell_type": "code",
   "execution_count": 45,
   "metadata": {
    "ExecuteTime": {
     "end_time": "2021-02-03T02:54:41.049179Z",
     "start_time": "2021-02-03T02:54:41.041190Z"
    }
   },
   "outputs": [],
   "source": [
    "def cal_iou(bb1,bb2):\n",
    "    x_left=max(bb1['x1'],bb2['x1'])\n",
    "    y_top=max(bb1['y1'],bb2['y1'])\n",
    "    x_right =min(bb1['x2'],bb2['x2'])\n",
    "    y_bottom = min(bb1['y2'],bb2['y2'])\n",
    "    if x_right < x_left or y_bottom < y_top:\n",
    "        return 0.0\n",
    "    intersection_area=(x_right - x_left)*(y_bottom-y_top)\n",
    "    bb1_area = (bb1['x2']-bb1['x1'])*(bb1['y2']-bb1['y1'])\n",
    "    bb2_area =(bb2['x2']-bb2['x1'])*(bb2['y2']-bb2['y1'])\n",
    "    iou = intersection_area / float(bb1_area +bb2_area -intersection_area)\n",
    "    return iou\n",
    "    "
   ]
  },
  {
   "cell_type": "code",
   "execution_count": 48,
   "metadata": {
    "ExecuteTime": {
     "end_time": "2021-02-03T03:56:47.293685Z",
     "start_time": "2021-02-03T03:56:47.284687Z"
    }
   },
   "outputs": [
    {
     "data": {
      "text/plain": [
       "0.13821138211382114"
      ]
     },
     "execution_count": 48,
     "metadata": {},
     "output_type": "execute_result"
    }
   ],
   "source": [
    " cal_iou(bb1,bb2)\n",
    "    "
   ]
  },
  {
   "cell_type": "code",
   "execution_count": 22,
   "metadata": {
    "ExecuteTime": {
     "end_time": "2021-02-03T08:58:42.431589Z",
     "start_time": "2021-02-03T08:58:42.421589Z"
    }
   },
   "outputs": [],
   "source": [
    "x={'width':11,'height':21,'class':'cola'}\n",
    "y={'width':10,'height':20,'class':'cola'}"
   ]
  },
  {
   "cell_type": "code",
   "execution_count": null,
   "metadata": {},
   "outputs": [],
   "source": []
  },
  {
   "cell_type": "code",
   "execution_count": 25,
   "metadata": {
    "ExecuteTime": {
     "end_time": "2021-02-03T08:58:54.391602Z",
     "start_time": "2021-02-03T08:58:54.376606Z"
    }
   },
   "outputs": [],
   "source": [
    "size_draw_box=[]"
   ]
  },
  {
   "cell_type": "code",
   "execution_count": 26,
   "metadata": {
    "ExecuteTime": {
     "end_time": "2021-02-03T08:58:54.627355Z",
     "start_time": "2021-02-03T08:58:54.614365Z"
    }
   },
   "outputs": [],
   "source": [
    "size_draw_box.append(x)\n",
    "size_draw_box.append(y)"
   ]
  },
  {
   "cell_type": "code",
   "execution_count": 27,
   "metadata": {
    "ExecuteTime": {
     "end_time": "2021-02-03T08:59:00.603828Z",
     "start_time": "2021-02-03T08:59:00.596830Z"
    }
   },
   "outputs": [
    {
     "data": {
      "text/plain": [
       "[{'class': 'cola', 'height': 21, 'width': 11},\n",
       " {'class': 'cola', 'height': 20, 'width': 10}]"
      ]
     },
     "execution_count": 27,
     "metadata": {},
     "output_type": "execute_result"
    }
   ],
   "source": [
    "size_draw_box"
   ]
  },
  {
   "cell_type": "code",
   "execution_count": 32,
   "metadata": {
    "ExecuteTime": {
     "end_time": "2021-02-03T09:00:11.262452Z",
     "start_time": "2021-02-03T09:00:11.244434Z"
    }
   },
   "outputs": [],
   "source": [
    "w=20\n",
    "h=20\n",
    "bb=1\n",
    "percent_sku=20\n",
    "class_sku='cola'"
   ]
  },
  {
   "cell_type": "code",
   "execution_count": 41,
   "metadata": {
    "ExecuteTime": {
     "end_time": "2021-02-03T09:09:46.321244Z",
     "start_time": "2021-02-03T09:09:46.305254Z"
    }
   },
   "outputs": [
    {
     "name": "stdout",
     "output_type": "stream",
     "text": [
      "8 20 12 16 20 24\n"
     ]
    },
    {
     "data": {
      "text/plain": [
       "(False, False, True)"
      ]
     },
     "execution_count": 41,
     "metadata": {},
     "output_type": "execute_result"
    }
   ],
   "source": [
    "check_size_sku(size_draw_box,w,h,bb,class_sku,percent_sku)"
   ]
  },
  {
   "cell_type": "code",
   "execution_count": 20,
   "metadata": {
    "ExecuteTime": {
     "end_time": "2021-02-03T08:49:25.652300Z",
     "start_time": "2021-02-03T08:49:25.648328Z"
    }
   },
   "outputs": [
    {
     "data": {
      "text/plain": [
       "True"
      ]
     },
     "execution_count": 20,
     "metadata": {},
     "output_type": "execute_result"
    }
   ],
   "source": []
  },
  {
   "cell_type": "code",
   "execution_count": 40,
   "metadata": {
    "ExecuteTime": {
     "end_time": "2021-02-03T09:09:42.996636Z",
     "start_time": "2021-02-03T09:09:42.976632Z"
    }
   },
   "outputs": [],
   "source": [
    "def check_size_sku(size_draw_box,w,h,bb,class_sku,percent_sku):\n",
    "    if size_draw_box[bb]['class'] == class_sku:\n",
    "        percent_width=size_draw_box[bb]['width']*(percent_sku/100)\n",
    "        percent_height=size_draw_box[bb]['height']*(percent_sku/100)\n",
    "        width1_range=int(size_draw_box[bb]['width']-percent_width)\n",
    "        width2_range=int(size_draw_box[bb]['width']+percent_width)\n",
    "        height1_range=int(size_draw_box[bb]['height']-percent_height)\n",
    "        height2_range=int(size_draw_box[bb]['height']+percent_height)\n",
    "        range_width=range(width1_range,width2_range)\n",
    "        range_height=range(height1_range,height2_range)\n",
    "        print(width1_range,w,width2_range,height1_range,h,height2_range)\n",
    "        \n",
    "        if w in range_width and h in range_height:\n",
    "            size_sku=True\n",
    "        else:\n",
    "            size_sku=False\n",
    "    return size_sku,w in range_width, h in range_height\n",
    "            "
   ]
  },
  {
   "cell_type": "code",
   "execution_count": null,
   "metadata": {},
   "outputs": [],
   "source": [
    "size_draw_box{'width'}"
   ]
  },
  {
   "cell_type": "code",
   "execution_count": null,
   "metadata": {},
   "outputs": [],
   "source": []
  },
  {
   "cell_type": "code",
   "execution_count": 42,
   "metadata": {
    "ExecuteTime": {
     "end_time": "2021-02-03T10:03:47.900283Z",
     "start_time": "2021-02-03T10:03:47.891286Z"
    }
   },
   "outputs": [],
   "source": [
    "from datetime import datetime"
   ]
  },
  {
   "cell_type": "code",
   "execution_count": 44,
   "metadata": {
    "ExecuteTime": {
     "end_time": "2021-02-03T10:05:00.441977Z",
     "start_time": "2021-02-03T10:05:00.430004Z"
    }
   },
   "outputs": [
    {
     "data": {
      "text/plain": [
       "str"
      ]
     },
     "execution_count": 44,
     "metadata": {},
     "output_type": "execute_result"
    }
   ],
   "source": [
    "type(datetime.today().strftime('%Y_%m_%d'))"
   ]
  },
  {
   "cell_type": "code",
   "execution_count": 1,
   "metadata": {
    "ExecuteTime": {
     "end_time": "2021-02-04T02:33:00.997139Z",
     "start_time": "2021-02-04T02:33:00.974140Z"
    }
   },
   "outputs": [],
   "source": [
    "with open('config/classname.txt') as f:\n",
    "    classname =f.read().splitlines()"
   ]
  },
  {
   "cell_type": "code",
   "execution_count": 2,
   "metadata": {
    "ExecuteTime": {
     "end_time": "2021-02-04T02:33:06.612499Z",
     "start_time": "2021-02-04T02:33:06.592498Z"
    }
   },
   "outputs": [
    {
     "data": {
      "text/plain": [
       "16"
      ]
     },
     "execution_count": 2,
     "metadata": {},
     "output_type": "execute_result"
    }
   ],
   "source": [
    "len(classname)"
   ]
  },
  {
   "cell_type": "code",
   "execution_count": 1,
   "metadata": {
    "ExecuteTime": {
     "end_time": "2021-02-24T03:57:47.473818Z",
     "start_time": "2021-02-24T03:57:46.818940Z"
    }
   },
   "outputs": [],
   "source": [
    "import numpy as np\n",
    "import cv2\n",
    "import math\n",
    "import os\n",
    "from PIL import Image\n",
    "from datetime import datetime\n",
    "folder='video/'"
   ]
  },
  {
   "cell_type": "code",
   "execution_count": 2,
   "metadata": {
    "ExecuteTime": {
     "end_time": "2021-02-24T03:58:38.088574Z",
     "start_time": "2021-02-24T03:58:38.077574Z"
    }
   },
   "outputs": [
    {
     "name": "stdout",
     "output_type": "stream",
     "text": [
      "gun_1.MOV\n"
     ]
    }
   ],
   "source": [
    "for subdir,dirs,files in os.walk(folder):\n",
    "    for file in files:\n",
    "        print(file)"
   ]
  },
  {
   "cell_type": "code",
   "execution_count": null,
   "metadata": {},
   "outputs": [],
   "source": []
  },
  {
   "cell_type": "code",
   "execution_count": null,
   "metadata": {},
   "outputs": [],
   "source": []
  },
  {
   "cell_type": "code",
   "execution_count": null,
   "metadata": {},
   "outputs": [],
   "source": []
  },
  {
   "cell_type": "code",
   "execution_count": 30,
   "metadata": {
    "ExecuteTime": {
     "end_time": "2021-03-01T03:16:16.498300Z",
     "start_time": "2021-03-01T03:16:16.455301Z"
    }
   },
   "outputs": [],
   "source": [
    "import numpy as np\n",
    "import cv2\n",
    "import math\n",
    "import os\n",
    "from PIL import Image\n",
    "from datetime import datetime\n",
    "import shutil\n",
    "folder='video/'\n",
    "folder_success='video_success/'\n",
    "# filevideo='gun_1.MOV'\n",
    "# path_video='video/IMG_9556.MOV'\n",
    "for subdir,dirs,files in os.walk(folder):\n",
    "    for file in files:\n",
    "        path_video=os.path.join(folder,file)\n",
    "        path_move = os.path.join(folder_success,file)\n",
    "# path_video=os.path.join(folder,filevideo)\n",
    "\n",
    "\n",
    "\n",
    "# classname='tea_plus_rootbeer'\n",
    "# classname=filevideo.strip('mp4MOVmov.')+'_'+datetime.today().strftime('%Y_%m_%d')+'_'\n",
    "classname=file.strip('mp4MOVmov.')+'_'+datetime.today().strftime('%Y_%m_%d')+'_'\n",
    "\n",
    "def resize(image):\n",
    "    # w_resize =768#for 3:4\n",
    "    w_resize =576#for 9:16\n",
    "    (img_h,img_w,_)=image.shape\n",
    "    if img_w > w_resize:\n",
    "        r =w_resize/img_w\n",
    "        dim=(w_resize,int(img_h*r))\n",
    "        image =cv2.resize(image,dim,interpolation=cv2.INTER_AREA)\n",
    "    return image\n",
    "def cut_frame(path_video,classname):\n",
    "    vidcap =cv2.VideoCapture(path_video)\n",
    "    success,image = vidcap.read()\n",
    "    # seconds=0.2\n",
    "    seconds=0.17\n",
    "    fps =vidcap.get(cv2.CAP_PROP_FPS)\n",
    "    multiplier=int(fps*seconds)\n",
    "\n",
    "    while success:\n",
    "        frameId =int(round(vidcap.get(1)))\n",
    "        success,image=vidcap.read()\n",
    "        image = cv2.rotate(image, cv2.cv2.ROTATE_90_CLOCKWISE) #mobile case\n",
    "        image=resize(image)\n",
    "        path_output=\"data/\"+classname+str(frameId)+\".jpg\"\n",
    "        if frameId % multiplier == 0 :\n",
    "            cv2.imwrite(path_output,image)\n",
    "            print(frameId,path_output)\n",
    "    return \"success\"\n",
    "    # vidcap.()\n",
    "def main_capture():\n",
    "    if not os.path.exists('data'):\n",
    "        os.makedirs('data')\n",
    "    try:\n",
    "        cut_frame(path_video,classname)\n",
    "    except:\n",
    "        if not os.path.exists('video_success'):\n",
    "            os.makedirs('video_success')\n",
    "        shutil.move(path_video,path_move)\n",
    "        pass\n",
    "    return path_video,path_move\n"
   ]
  },
  {
   "cell_type": "code",
   "execution_count": 31,
   "metadata": {
    "ExecuteTime": {
     "end_time": "2021-03-01T03:16:53.730549Z",
     "start_time": "2021-03-01T03:16:17.869689Z"
    }
   },
   "outputs": [
    {
     "name": "stdout",
     "output_type": "stream",
     "text": [
      "5 data/gun_1_2021_03_01_5.jpg\n",
      "10 data/gun_1_2021_03_01_10.jpg\n",
      "15 data/gun_1_2021_03_01_15.jpg\n",
      "20 data/gun_1_2021_03_01_20.jpg\n",
      "25 data/gun_1_2021_03_01_25.jpg\n",
      "30 data/gun_1_2021_03_01_30.jpg\n",
      "35 data/gun_1_2021_03_01_35.jpg\n",
      "40 data/gun_1_2021_03_01_40.jpg\n",
      "45 data/gun_1_2021_03_01_45.jpg\n",
      "50 data/gun_1_2021_03_01_50.jpg\n",
      "55 data/gun_1_2021_03_01_55.jpg\n",
      "60 data/gun_1_2021_03_01_60.jpg\n",
      "65 data/gun_1_2021_03_01_65.jpg\n",
      "70 data/gun_1_2021_03_01_70.jpg\n",
      "75 data/gun_1_2021_03_01_75.jpg\n",
      "80 data/gun_1_2021_03_01_80.jpg\n",
      "85 data/gun_1_2021_03_01_85.jpg\n",
      "90 data/gun_1_2021_03_01_90.jpg\n",
      "95 data/gun_1_2021_03_01_95.jpg\n",
      "100 data/gun_1_2021_03_01_100.jpg\n",
      "105 data/gun_1_2021_03_01_105.jpg\n",
      "110 data/gun_1_2021_03_01_110.jpg\n",
      "115 data/gun_1_2021_03_01_115.jpg\n",
      "120 data/gun_1_2021_03_01_120.jpg\n",
      "125 data/gun_1_2021_03_01_125.jpg\n",
      "130 data/gun_1_2021_03_01_130.jpg\n",
      "135 data/gun_1_2021_03_01_135.jpg\n",
      "140 data/gun_1_2021_03_01_140.jpg\n",
      "145 data/gun_1_2021_03_01_145.jpg\n",
      "150 data/gun_1_2021_03_01_150.jpg\n",
      "155 data/gun_1_2021_03_01_155.jpg\n",
      "160 data/gun_1_2021_03_01_160.jpg\n",
      "165 data/gun_1_2021_03_01_165.jpg\n",
      "170 data/gun_1_2021_03_01_170.jpg\n",
      "175 data/gun_1_2021_03_01_175.jpg\n",
      "180 data/gun_1_2021_03_01_180.jpg\n",
      "185 data/gun_1_2021_03_01_185.jpg\n",
      "190 data/gun_1_2021_03_01_190.jpg\n",
      "195 data/gun_1_2021_03_01_195.jpg\n",
      "200 data/gun_1_2021_03_01_200.jpg\n",
      "205 data/gun_1_2021_03_01_205.jpg\n",
      "210 data/gun_1_2021_03_01_210.jpg\n",
      "215 data/gun_1_2021_03_01_215.jpg\n",
      "220 data/gun_1_2021_03_01_220.jpg\n",
      "225 data/gun_1_2021_03_01_225.jpg\n",
      "230 data/gun_1_2021_03_01_230.jpg\n",
      "235 data/gun_1_2021_03_01_235.jpg\n",
      "240 data/gun_1_2021_03_01_240.jpg\n",
      "245 data/gun_1_2021_03_01_245.jpg\n",
      "250 data/gun_1_2021_03_01_250.jpg\n",
      "255 data/gun_1_2021_03_01_255.jpg\n",
      "260 data/gun_1_2021_03_01_260.jpg\n",
      "265 data/gun_1_2021_03_01_265.jpg\n",
      "270 data/gun_1_2021_03_01_270.jpg\n",
      "275 data/gun_1_2021_03_01_275.jpg\n",
      "280 data/gun_1_2021_03_01_280.jpg\n",
      "285 data/gun_1_2021_03_01_285.jpg\n",
      "290 data/gun_1_2021_03_01_290.jpg\n",
      "295 data/gun_1_2021_03_01_295.jpg\n",
      "300 data/gun_1_2021_03_01_300.jpg\n",
      "305 data/gun_1_2021_03_01_305.jpg\n",
      "310 data/gun_1_2021_03_01_310.jpg\n",
      "315 data/gun_1_2021_03_01_315.jpg\n",
      "320 data/gun_1_2021_03_01_320.jpg\n",
      "325 data/gun_1_2021_03_01_325.jpg\n",
      "330 data/gun_1_2021_03_01_330.jpg\n",
      "335 data/gun_1_2021_03_01_335.jpg\n",
      "340 data/gun_1_2021_03_01_340.jpg\n",
      "345 data/gun_1_2021_03_01_345.jpg\n",
      "350 data/gun_1_2021_03_01_350.jpg\n",
      "355 data/gun_1_2021_03_01_355.jpg\n",
      "360 data/gun_1_2021_03_01_360.jpg\n",
      "365 data/gun_1_2021_03_01_365.jpg\n",
      "370 data/gun_1_2021_03_01_370.jpg\n",
      "375 data/gun_1_2021_03_01_375.jpg\n",
      "380 data/gun_1_2021_03_01_380.jpg\n",
      "385 data/gun_1_2021_03_01_385.jpg\n",
      "390 data/gun_1_2021_03_01_390.jpg\n",
      "395 data/gun_1_2021_03_01_395.jpg\n",
      "400 data/gun_1_2021_03_01_400.jpg\n",
      "405 data/gun_1_2021_03_01_405.jpg\n",
      "410 data/gun_1_2021_03_01_410.jpg\n",
      "415 data/gun_1_2021_03_01_415.jpg\n",
      "420 data/gun_1_2021_03_01_420.jpg\n",
      "425 data/gun_1_2021_03_01_425.jpg\n",
      "430 data/gun_1_2021_03_01_430.jpg\n",
      "435 data/gun_1_2021_03_01_435.jpg\n",
      "440 data/gun_1_2021_03_01_440.jpg\n",
      "445 data/gun_1_2021_03_01_445.jpg\n",
      "450 data/gun_1_2021_03_01_450.jpg\n",
      "455 data/gun_1_2021_03_01_455.jpg\n",
      "460 data/gun_1_2021_03_01_460.jpg\n",
      "465 data/gun_1_2021_03_01_465.jpg\n",
      "470 data/gun_1_2021_03_01_470.jpg\n",
      "475 data/gun_1_2021_03_01_475.jpg\n",
      "480 data/gun_1_2021_03_01_480.jpg\n",
      "485 data/gun_1_2021_03_01_485.jpg\n",
      "490 data/gun_1_2021_03_01_490.jpg\n",
      "495 data/gun_1_2021_03_01_495.jpg\n",
      "500 data/gun_1_2021_03_01_500.jpg\n",
      "505 data/gun_1_2021_03_01_505.jpg\n",
      "510 data/gun_1_2021_03_01_510.jpg\n",
      "515 data/gun_1_2021_03_01_515.jpg\n",
      "520 data/gun_1_2021_03_01_520.jpg\n",
      "525 data/gun_1_2021_03_01_525.jpg\n",
      "530 data/gun_1_2021_03_01_530.jpg\n",
      "535 data/gun_1_2021_03_01_535.jpg\n",
      "540 data/gun_1_2021_03_01_540.jpg\n",
      "545 data/gun_1_2021_03_01_545.jpg\n",
      "550 data/gun_1_2021_03_01_550.jpg\n",
      "555 data/gun_1_2021_03_01_555.jpg\n",
      "560 data/gun_1_2021_03_01_560.jpg\n",
      "565 data/gun_1_2021_03_01_565.jpg\n",
      "570 data/gun_1_2021_03_01_570.jpg\n",
      "575 data/gun_1_2021_03_01_575.jpg\n",
      "580 data/gun_1_2021_03_01_580.jpg\n",
      "585 data/gun_1_2021_03_01_585.jpg\n",
      "590 data/gun_1_2021_03_01_590.jpg\n",
      "595 data/gun_1_2021_03_01_595.jpg\n",
      "600 data/gun_1_2021_03_01_600.jpg\n",
      "605 data/gun_1_2021_03_01_605.jpg\n",
      "610 data/gun_1_2021_03_01_610.jpg\n",
      "615 data/gun_1_2021_03_01_615.jpg\n",
      "620 data/gun_1_2021_03_01_620.jpg\n",
      "625 data/gun_1_2021_03_01_625.jpg\n",
      "630 data/gun_1_2021_03_01_630.jpg\n",
      "635 data/gun_1_2021_03_01_635.jpg\n",
      "640 data/gun_1_2021_03_01_640.jpg\n",
      "645 data/gun_1_2021_03_01_645.jpg\n",
      "650 data/gun_1_2021_03_01_650.jpg\n",
      "655 data/gun_1_2021_03_01_655.jpg\n",
      "660 data/gun_1_2021_03_01_660.jpg\n",
      "665 data/gun_1_2021_03_01_665.jpg\n",
      "670 data/gun_1_2021_03_01_670.jpg\n",
      "675 data/gun_1_2021_03_01_675.jpg\n",
      "680 data/gun_1_2021_03_01_680.jpg\n",
      "685 data/gun_1_2021_03_01_685.jpg\n",
      "690 data/gun_1_2021_03_01_690.jpg\n",
      "695 data/gun_1_2021_03_01_695.jpg\n",
      "700 data/gun_1_2021_03_01_700.jpg\n",
      "705 data/gun_1_2021_03_01_705.jpg\n",
      "710 data/gun_1_2021_03_01_710.jpg\n",
      "715 data/gun_1_2021_03_01_715.jpg\n",
      "720 data/gun_1_2021_03_01_720.jpg\n",
      "725 data/gun_1_2021_03_01_725.jpg\n",
      "730 data/gun_1_2021_03_01_730.jpg\n",
      "735 data/gun_1_2021_03_01_735.jpg\n",
      "740 data/gun_1_2021_03_01_740.jpg\n",
      "745 data/gun_1_2021_03_01_745.jpg\n",
      "750 data/gun_1_2021_03_01_750.jpg\n",
      "755 data/gun_1_2021_03_01_755.jpg\n",
      "760 data/gun_1_2021_03_01_760.jpg\n",
      "765 data/gun_1_2021_03_01_765.jpg\n",
      "770 data/gun_1_2021_03_01_770.jpg\n",
      "775 data/gun_1_2021_03_01_775.jpg\n",
      "780 data/gun_1_2021_03_01_780.jpg\n",
      "785 data/gun_1_2021_03_01_785.jpg\n",
      "790 data/gun_1_2021_03_01_790.jpg\n",
      "795 data/gun_1_2021_03_01_795.jpg\n",
      "800 data/gun_1_2021_03_01_800.jpg\n",
      "805 data/gun_1_2021_03_01_805.jpg\n",
      "810 data/gun_1_2021_03_01_810.jpg\n",
      "815 data/gun_1_2021_03_01_815.jpg\n",
      "820 data/gun_1_2021_03_01_820.jpg\n",
      "825 data/gun_1_2021_03_01_825.jpg\n",
      "830 data/gun_1_2021_03_01_830.jpg\n",
      "835 data/gun_1_2021_03_01_835.jpg\n",
      "840 data/gun_1_2021_03_01_840.jpg\n",
      "845 data/gun_1_2021_03_01_845.jpg\n",
      "850 data/gun_1_2021_03_01_850.jpg\n",
      "855 data/gun_1_2021_03_01_855.jpg\n",
      "860 data/gun_1_2021_03_01_860.jpg\n",
      "865 data/gun_1_2021_03_01_865.jpg\n",
      "870 data/gun_1_2021_03_01_870.jpg\n",
      "875 data/gun_1_2021_03_01_875.jpg\n",
      "880 data/gun_1_2021_03_01_880.jpg\n",
      "885 data/gun_1_2021_03_01_885.jpg\n",
      "890 data/gun_1_2021_03_01_890.jpg\n",
      "895 data/gun_1_2021_03_01_895.jpg\n",
      "900 data/gun_1_2021_03_01_900.jpg\n",
      "905 data/gun_1_2021_03_01_905.jpg\n",
      "910 data/gun_1_2021_03_01_910.jpg\n",
      "915 data/gun_1_2021_03_01_915.jpg\n",
      "920 data/gun_1_2021_03_01_920.jpg\n",
      "925 data/gun_1_2021_03_01_925.jpg\n",
      "930 data/gun_1_2021_03_01_930.jpg\n",
      "935 data/gun_1_2021_03_01_935.jpg\n",
      "940 data/gun_1_2021_03_01_940.jpg\n",
      "945 data/gun_1_2021_03_01_945.jpg\n",
      "950 data/gun_1_2021_03_01_950.jpg\n",
      "955 data/gun_1_2021_03_01_955.jpg\n",
      "960 data/gun_1_2021_03_01_960.jpg\n",
      "965 data/gun_1_2021_03_01_965.jpg\n",
      "970 data/gun_1_2021_03_01_970.jpg\n",
      "975 data/gun_1_2021_03_01_975.jpg\n",
      "980 data/gun_1_2021_03_01_980.jpg\n",
      "985 data/gun_1_2021_03_01_985.jpg\n",
      "990 data/gun_1_2021_03_01_990.jpg\n",
      "995 data/gun_1_2021_03_01_995.jpg\n",
      "1000 data/gun_1_2021_03_01_1000.jpg\n",
      "1005 data/gun_1_2021_03_01_1005.jpg\n",
      "1010 data/gun_1_2021_03_01_1010.jpg\n",
      "1015 data/gun_1_2021_03_01_1015.jpg\n",
      "1020 data/gun_1_2021_03_01_1020.jpg\n",
      "1025 data/gun_1_2021_03_01_1025.jpg\n",
      "1030 data/gun_1_2021_03_01_1030.jpg\n",
      "1035 data/gun_1_2021_03_01_1035.jpg\n",
      "1040 data/gun_1_2021_03_01_1040.jpg\n",
      "1045 data/gun_1_2021_03_01_1045.jpg\n",
      "1050 data/gun_1_2021_03_01_1050.jpg\n",
      "1055 data/gun_1_2021_03_01_1055.jpg\n",
      "1060 data/gun_1_2021_03_01_1060.jpg\n",
      "1065 data/gun_1_2021_03_01_1065.jpg\n",
      "1070 data/gun_1_2021_03_01_1070.jpg\n",
      "1075 data/gun_1_2021_03_01_1075.jpg\n",
      "1080 data/gun_1_2021_03_01_1080.jpg\n",
      "1085 data/gun_1_2021_03_01_1085.jpg\n",
      "1090 data/gun_1_2021_03_01_1090.jpg\n",
      "1095 data/gun_1_2021_03_01_1095.jpg\n",
      "1100 data/gun_1_2021_03_01_1100.jpg\n",
      "1105 data/gun_1_2021_03_01_1105.jpg\n",
      "1110 data/gun_1_2021_03_01_1110.jpg\n",
      "1115 data/gun_1_2021_03_01_1115.jpg\n",
      "1120 data/gun_1_2021_03_01_1120.jpg\n",
      "1125 data/gun_1_2021_03_01_1125.jpg\n",
      "1130 data/gun_1_2021_03_01_1130.jpg\n",
      "1135 data/gun_1_2021_03_01_1135.jpg\n",
      "1140 data/gun_1_2021_03_01_1140.jpg\n",
      "1145 data/gun_1_2021_03_01_1145.jpg\n",
      "1150 data/gun_1_2021_03_01_1150.jpg\n",
      "1155 data/gun_1_2021_03_01_1155.jpg\n",
      "1160 data/gun_1_2021_03_01_1160.jpg\n",
      "1165 data/gun_1_2021_03_01_1165.jpg\n",
      "1170 data/gun_1_2021_03_01_1170.jpg\n",
      "1175 data/gun_1_2021_03_01_1175.jpg\n",
      "1180 data/gun_1_2021_03_01_1180.jpg\n",
      "1185 data/gun_1_2021_03_01_1185.jpg\n",
      "1190 data/gun_1_2021_03_01_1190.jpg\n",
      "1195 data/gun_1_2021_03_01_1195.jpg\n",
      "1200 data/gun_1_2021_03_01_1200.jpg\n",
      "1205 data/gun_1_2021_03_01_1205.jpg\n"
     ]
    },
    {
     "name": "stdout",
     "output_type": "stream",
     "text": [
      "1210 data/gun_1_2021_03_01_1210.jpg\n",
      "1215 data/gun_1_2021_03_01_1215.jpg\n",
      "1220 data/gun_1_2021_03_01_1220.jpg\n",
      "1225 data/gun_1_2021_03_01_1225.jpg\n",
      "1230 data/gun_1_2021_03_01_1230.jpg\n",
      "1235 data/gun_1_2021_03_01_1235.jpg\n",
      "1240 data/gun_1_2021_03_01_1240.jpg\n",
      "1245 data/gun_1_2021_03_01_1245.jpg\n",
      "1250 data/gun_1_2021_03_01_1250.jpg\n",
      "1255 data/gun_1_2021_03_01_1255.jpg\n",
      "1260 data/gun_1_2021_03_01_1260.jpg\n",
      "1265 data/gun_1_2021_03_01_1265.jpg\n",
      "1270 data/gun_1_2021_03_01_1270.jpg\n",
      "1275 data/gun_1_2021_03_01_1275.jpg\n",
      "1280 data/gun_1_2021_03_01_1280.jpg\n",
      "1285 data/gun_1_2021_03_01_1285.jpg\n",
      "1290 data/gun_1_2021_03_01_1290.jpg\n",
      "1295 data/gun_1_2021_03_01_1295.jpg\n",
      "1300 data/gun_1_2021_03_01_1300.jpg\n",
      "1305 data/gun_1_2021_03_01_1305.jpg\n",
      "1310 data/gun_1_2021_03_01_1310.jpg\n",
      "1315 data/gun_1_2021_03_01_1315.jpg\n",
      "1320 data/gun_1_2021_03_01_1320.jpg\n",
      "1325 data/gun_1_2021_03_01_1325.jpg\n",
      "1330 data/gun_1_2021_03_01_1330.jpg\n",
      "1335 data/gun_1_2021_03_01_1335.jpg\n",
      "1340 data/gun_1_2021_03_01_1340.jpg\n",
      "1345 data/gun_1_2021_03_01_1345.jpg\n",
      "1350 data/gun_1_2021_03_01_1350.jpg\n",
      "1355 data/gun_1_2021_03_01_1355.jpg\n",
      "1360 data/gun_1_2021_03_01_1360.jpg\n",
      "1365 data/gun_1_2021_03_01_1365.jpg\n",
      "1370 data/gun_1_2021_03_01_1370.jpg\n",
      "1375 data/gun_1_2021_03_01_1375.jpg\n",
      "1380 data/gun_1_2021_03_01_1380.jpg\n",
      "1385 data/gun_1_2021_03_01_1385.jpg\n",
      "1390 data/gun_1_2021_03_01_1390.jpg\n",
      "1395 data/gun_1_2021_03_01_1395.jpg\n",
      "1400 data/gun_1_2021_03_01_1400.jpg\n",
      "1405 data/gun_1_2021_03_01_1405.jpg\n",
      "1410 data/gun_1_2021_03_01_1410.jpg\n",
      "1415 data/gun_1_2021_03_01_1415.jpg\n",
      "1420 data/gun_1_2021_03_01_1420.jpg\n",
      "1425 data/gun_1_2021_03_01_1425.jpg\n",
      "1430 data/gun_1_2021_03_01_1430.jpg\n",
      "1435 data/gun_1_2021_03_01_1435.jpg\n",
      "1440 data/gun_1_2021_03_01_1440.jpg\n",
      "1445 data/gun_1_2021_03_01_1445.jpg\n",
      "1450 data/gun_1_2021_03_01_1450.jpg\n",
      "1455 data/gun_1_2021_03_01_1455.jpg\n",
      "1460 data/gun_1_2021_03_01_1460.jpg\n"
     ]
    },
    {
     "ename": "AttributeError",
     "evalue": "'str' object has no attribute 'close'",
     "output_type": "error",
     "traceback": [
      "\u001b[1;31m---------------------------------------------------------------------------\u001b[0m",
      "\u001b[1;31mAttributeError\u001b[0m                            Traceback (most recent call last)",
      "\u001b[1;32m<ipython-input-30-5c9049e0486b>\u001b[0m in \u001b[0;36mmain_capture\u001b[1;34m()\u001b[0m\n\u001b[0;32m     55\u001b[0m     \u001b[1;32mtry\u001b[0m\u001b[1;33m:\u001b[0m\u001b[1;33m\u001b[0m\u001b[1;33m\u001b[0m\u001b[0m\n\u001b[1;32m---> 56\u001b[1;33m         \u001b[0mcut_frame\u001b[0m\u001b[1;33m(\u001b[0m\u001b[0mpath_video\u001b[0m\u001b[1;33m,\u001b[0m\u001b[0mclassname\u001b[0m\u001b[1;33m)\u001b[0m\u001b[1;33m\u001b[0m\u001b[1;33m\u001b[0m\u001b[0m\n\u001b[0m\u001b[0;32m     57\u001b[0m     \u001b[1;32mexcept\u001b[0m\u001b[1;33m:\u001b[0m\u001b[1;33m\u001b[0m\u001b[1;33m\u001b[0m\u001b[0m\n",
      "\u001b[1;32m<ipython-input-30-5c9049e0486b>\u001b[0m in \u001b[0;36mcut_frame\u001b[1;34m(path_video, classname)\u001b[0m\n\u001b[0;32m     44\u001b[0m         \u001b[0mimage\u001b[0m \u001b[1;33m=\u001b[0m \u001b[0mcv2\u001b[0m\u001b[1;33m.\u001b[0m\u001b[0mrotate\u001b[0m\u001b[1;33m(\u001b[0m\u001b[0mimage\u001b[0m\u001b[1;33m,\u001b[0m \u001b[0mcv2\u001b[0m\u001b[1;33m.\u001b[0m\u001b[0mcv2\u001b[0m\u001b[1;33m.\u001b[0m\u001b[0mROTATE_90_CLOCKWISE\u001b[0m\u001b[1;33m)\u001b[0m \u001b[1;31m#mobile case\u001b[0m\u001b[1;33m\u001b[0m\u001b[1;33m\u001b[0m\u001b[0m\n\u001b[1;32m---> 45\u001b[1;33m         \u001b[0mimage\u001b[0m\u001b[1;33m=\u001b[0m\u001b[0mresize\u001b[0m\u001b[1;33m(\u001b[0m\u001b[0mimage\u001b[0m\u001b[1;33m)\u001b[0m\u001b[1;33m\u001b[0m\u001b[1;33m\u001b[0m\u001b[0m\n\u001b[0m\u001b[0;32m     46\u001b[0m         \u001b[0mpath_output\u001b[0m\u001b[1;33m=\u001b[0m\u001b[1;34m\"data/\"\u001b[0m\u001b[1;33m+\u001b[0m\u001b[0mclassname\u001b[0m\u001b[1;33m+\u001b[0m\u001b[0mstr\u001b[0m\u001b[1;33m(\u001b[0m\u001b[0mframeId\u001b[0m\u001b[1;33m)\u001b[0m\u001b[1;33m+\u001b[0m\u001b[1;34m\".jpg\"\u001b[0m\u001b[1;33m\u001b[0m\u001b[1;33m\u001b[0m\u001b[0m\n",
      "\u001b[1;32m<ipython-input-30-5c9049e0486b>\u001b[0m in \u001b[0;36mresize\u001b[1;34m(image)\u001b[0m\n\u001b[0;32m     26\u001b[0m     \u001b[0mw_resize\u001b[0m \u001b[1;33m=\u001b[0m\u001b[1;36m576\u001b[0m\u001b[1;31m#for 9:16\u001b[0m\u001b[1;33m\u001b[0m\u001b[1;33m\u001b[0m\u001b[0m\n\u001b[1;32m---> 27\u001b[1;33m     \u001b[1;33m(\u001b[0m\u001b[0mimg_h\u001b[0m\u001b[1;33m,\u001b[0m\u001b[0mimg_w\u001b[0m\u001b[1;33m,\u001b[0m\u001b[0m_\u001b[0m\u001b[1;33m)\u001b[0m\u001b[1;33m=\u001b[0m\u001b[0mimage\u001b[0m\u001b[1;33m.\u001b[0m\u001b[0mshape\u001b[0m\u001b[1;33m\u001b[0m\u001b[1;33m\u001b[0m\u001b[0m\n\u001b[0m\u001b[0;32m     28\u001b[0m     \u001b[1;32mif\u001b[0m \u001b[0mimg_w\u001b[0m \u001b[1;33m>\u001b[0m \u001b[0mw_resize\u001b[0m\u001b[1;33m:\u001b[0m\u001b[1;33m\u001b[0m\u001b[1;33m\u001b[0m\u001b[0m\n",
      "\u001b[1;31mAttributeError\u001b[0m: 'NoneType' object has no attribute 'shape'",
      "\nDuring handling of the above exception, another exception occurred:\n",
      "\u001b[1;31mAttributeError\u001b[0m                            Traceback (most recent call last)",
      "\u001b[1;32m<ipython-input-31-f93b4464acd6>\u001b[0m in \u001b[0;36m<module>\u001b[1;34m()\u001b[0m\n\u001b[1;32m----> 1\u001b[1;33m \u001b[0mpath_video\u001b[0m\u001b[1;33m,\u001b[0m\u001b[0mpath_move\u001b[0m\u001b[1;33m=\u001b[0m\u001b[0mmain_capture\u001b[0m\u001b[1;33m(\u001b[0m\u001b[1;33m)\u001b[0m\u001b[1;33m\u001b[0m\u001b[1;33m\u001b[0m\u001b[0m\n\u001b[0m\u001b[0;32m      2\u001b[0m \u001b[1;31m# vidcap.close()\u001b[0m\u001b[1;33m\u001b[0m\u001b[1;33m\u001b[0m\u001b[1;33m\u001b[0m\u001b[0m\n\u001b[0;32m      3\u001b[0m \u001b[1;31m# shutil.move(path_video,path_move)\u001b[0m\u001b[1;33m\u001b[0m\u001b[1;33m\u001b[0m\u001b[1;33m\u001b[0m\u001b[0m\n\u001b[0;32m      4\u001b[0m \u001b[1;31m# print(path_move,path_video)\u001b[0m\u001b[1;33m\u001b[0m\u001b[1;33m\u001b[0m\u001b[1;33m\u001b[0m\u001b[0m\n",
      "\u001b[1;32m<ipython-input-30-5c9049e0486b>\u001b[0m in \u001b[0;36mmain_capture\u001b[1;34m()\u001b[0m\n\u001b[0;32m     58\u001b[0m         \u001b[1;32mif\u001b[0m \u001b[1;32mnot\u001b[0m \u001b[0mos\u001b[0m\u001b[1;33m.\u001b[0m\u001b[0mpath\u001b[0m\u001b[1;33m.\u001b[0m\u001b[0mexists\u001b[0m\u001b[1;33m(\u001b[0m\u001b[1;34m'video_success'\u001b[0m\u001b[1;33m)\u001b[0m\u001b[1;33m:\u001b[0m\u001b[1;33m\u001b[0m\u001b[1;33m\u001b[0m\u001b[0m\n\u001b[0;32m     59\u001b[0m             \u001b[0mos\u001b[0m\u001b[1;33m.\u001b[0m\u001b[0mmakedirs\u001b[0m\u001b[1;33m(\u001b[0m\u001b[1;34m'video_success'\u001b[0m\u001b[1;33m)\u001b[0m\u001b[1;33m\u001b[0m\u001b[1;33m\u001b[0m\u001b[0m\n\u001b[1;32m---> 60\u001b[1;33m         \u001b[0mpath_video\u001b[0m\u001b[1;33m.\u001b[0m\u001b[0mclose\u001b[0m\u001b[1;33m(\u001b[0m\u001b[1;33m)\u001b[0m\u001b[1;33m\u001b[0m\u001b[1;33m\u001b[0m\u001b[0m\n\u001b[0m\u001b[0;32m     61\u001b[0m         \u001b[0mshutil\u001b[0m\u001b[1;33m.\u001b[0m\u001b[0mmove\u001b[0m\u001b[1;33m(\u001b[0m\u001b[0mpath_video\u001b[0m\u001b[1;33m,\u001b[0m\u001b[0mpath_move\u001b[0m\u001b[1;33m)\u001b[0m\u001b[1;33m\u001b[0m\u001b[1;33m\u001b[0m\u001b[0m\n\u001b[0;32m     62\u001b[0m         \u001b[1;32mpass\u001b[0m\u001b[1;33m\u001b[0m\u001b[1;33m\u001b[0m\u001b[0m\n",
      "\u001b[1;31mAttributeError\u001b[0m: 'str' object has no attribute 'close'"
     ]
    }
   ],
   "source": [
    "path_video,path_move=main_capture()\n",
    "# vidcap.close()\n",
    "# shutil.move(path_video,path_move)\n",
    "# print(path_move,path_video)"
   ]
  },
  {
   "cell_type": "code",
   "execution_count": 19,
   "metadata": {
    "ExecuteTime": {
     "end_time": "2021-03-01T03:11:13.256906Z",
     "start_time": "2021-03-01T03:11:13.249872Z"
    }
   },
   "outputs": [
    {
     "ename": "NameError",
     "evalue": "name 'vidcap' is not defined",
     "output_type": "error",
     "traceback": [
      "\u001b[1;31m---------------------------------------------------------------------------\u001b[0m",
      "\u001b[1;31mNameError\u001b[0m                                 Traceback (most recent call last)",
      "\u001b[1;32m<ipython-input-19-9f4143f17be9>\u001b[0m in \u001b[0;36m<module>\u001b[1;34m()\u001b[0m\n\u001b[1;32m----> 1\u001b[1;33m \u001b[0mvidcap\u001b[0m\u001b[1;33m.\u001b[0m\u001b[0mclose\u001b[0m\u001b[1;33m(\u001b[0m\u001b[1;33m)\u001b[0m\u001b[1;33m\u001b[0m\u001b[1;33m\u001b[0m\u001b[0m\n\u001b[0m\u001b[0;32m      2\u001b[0m \u001b[0mshutil\u001b[0m\u001b[1;33m.\u001b[0m\u001b[0mmove\u001b[0m\u001b[1;33m(\u001b[0m\u001b[0mpath_video\u001b[0m\u001b[1;33m,\u001b[0m\u001b[0mpath_move\u001b[0m\u001b[1;33m)\u001b[0m\u001b[1;33m\u001b[0m\u001b[1;33m\u001b[0m\u001b[0m\n",
      "\u001b[1;31mNameError\u001b[0m: name 'vidcap' is not defined"
     ]
    }
   ],
   "source": [
    "vidcap.close()\n",
    "shutil.move(path_video,path_move)"
   ]
  },
  {
   "cell_type": "code",
   "execution_count": null,
   "metadata": {},
   "outputs": [],
   "source": []
  },
  {
   "cell_type": "code",
   "execution_count": null,
   "metadata": {},
   "outputs": [],
   "source": []
  },
  {
   "cell_type": "code",
   "execution_count": null,
   "metadata": {},
   "outputs": [],
   "source": []
  },
  {
   "cell_type": "code",
   "execution_count": 56,
   "metadata": {
    "ExecuteTime": {
     "end_time": "2021-03-01T08:57:20.511768Z",
     "start_time": "2021-03-01T08:57:20.411768Z"
    }
   },
   "outputs": [
    {
     "name": "stdout",
     "output_type": "stream",
     "text": [
      "{'index': 0, 'codec_name': 'h264', 'codec_long_name': 'H.264 / AVC / MPEG-4 AVC / MPEG-4 part 10', 'profile': 'High', 'codec_type': 'video', 'codec_time_base': '1219/73150', 'codec_tag_string': 'avc1', 'codec_tag': '0x31637661', 'width': 1920, 'height': 1080, 'coded_width': 1920, 'coded_height': 1088, 'has_b_frames': 1, 'pix_fmt': 'yuv420p', 'level': 40, 'color_range': 'tv', 'color_space': 'bt709', 'color_transfer': 'bt709', 'color_primaries': 'bt709', 'chroma_location': 'left', 'refs': 1, 'is_avc': 'true', 'nal_length_size': '4', 'r_frame_rate': '30/1', 'avg_frame_rate': '36575/1219', 'time_base': '1/600', 'start_pts': 0, 'start_time': '0.000000', 'duration_ts': 29256, 'duration': '48.760000', 'bit_rate': '15988484', 'bits_per_raw_sample': '8', 'nb_frames': '1463', 'disposition': {'default': 1, 'dub': 0, 'original': 0, 'comment': 0, 'lyrics': 0, 'karaoke': 0, 'forced': 0, 'hearing_impaired': 0, 'visual_impaired': 0, 'clean_effects': 0, 'attached_pic': 0, 'timed_thumbnails': 0}, 'tags': {'rotate': '90', 'creation_time': '2021-02-09T07:03:23.000000Z', 'language': 'und', 'handler_name': 'Core Media Video', 'encoder': 'H.264'}, 'side_data_list': [{'side_data_type': 'Display Matrix', 'displaymatrix': '\\n00000000:            0       65536           0\\n00000001:       -65536           0           0\\n00000002:     70778880           0  1073741824\\n', 'rotation': -90}]}\n"
     ]
    }
   ],
   "source": [
    "path='video/gun_1.MOV'\n",
    "from videoprops import get_video_properties\n",
    "props_2 =get_video_properties(path)\n",
    "print(props_2)"
   ]
  },
  {
   "cell_type": "code",
   "execution_count": 57,
   "metadata": {
    "ExecuteTime": {
     "end_time": "2021-03-01T08:57:20.964658Z",
     "start_time": "2021-03-01T08:57:20.951640Z"
    }
   },
   "outputs": [
    {
     "name": "stdout",
     "output_type": "stream",
     "text": [
      "1920 1080 90\n"
     ]
    }
   ],
   "source": [
    "print(props_2['width'],props_2['height'],props_2['tags']['rotate'])"
   ]
  },
  {
   "cell_type": "code",
   "execution_count": 58,
   "metadata": {
    "ExecuteTime": {
     "end_time": "2021-03-01T08:57:24.574166Z",
     "start_time": "2021-03-01T08:57:24.407126Z"
    }
   },
   "outputs": [
    {
     "name": "stdout",
     "output_type": "stream",
     "text": [
      "{'index': 0, 'codec_name': 'h264', 'codec_long_name': 'H.264 / AVC / MPEG-4 AVC / MPEG-4 part 10', 'profile': 'High', 'codec_type': 'video', 'codec_time_base': '12541/752400', 'codec_tag_string': 'avc1', 'codec_tag': '0x31637661', 'width': 3264, 'height': 2448, 'coded_width': 3264, 'coded_height': 2448, 'has_b_frames': 0, 'pix_fmt': 'yuvj420p', 'level': 51, 'color_range': 'pc', 'color_space': 'bt709', 'color_transfer': 'bt709', 'color_primaries': 'bt709', 'chroma_location': 'left', 'refs': 1, 'is_avc': 'true', 'nal_length_size': '4', 'r_frame_rate': '30/1', 'avg_frame_rate': '376200/12541', 'time_base': '1/600', 'start_pts': 52, 'start_time': '0.086667', 'duration_ts': 12541, 'duration': '20.901667', 'bit_rate': '43898855', 'bits_per_raw_sample': '8', 'nb_frames': '627', 'disposition': {'default': 1, 'dub': 0, 'original': 0, 'comment': 0, 'lyrics': 0, 'karaoke': 0, 'forced': 0, 'hearing_impaired': 0, 'visual_impaired': 0, 'clean_effects': 0, 'attached_pic': 0, 'timed_thumbnails': 0}, 'tags': {'creation_time': '2021-02-16T07:10:14.000000Z', 'language': 'und', 'handler_name': 'Core Media Video', 'encoder': 'H.264'}}\n"
     ]
    }
   ],
   "source": [
    "path='video/gun_13.MOV'\n",
    "from videoprops import get_video_properties\n",
    "props_2 =get_video_properties(path)\n",
    "print(props_2)"
   ]
  },
  {
   "cell_type": "code",
   "execution_count": 59,
   "metadata": {
    "ExecuteTime": {
     "end_time": "2021-03-01T08:57:25.305945Z",
     "start_time": "2021-03-01T08:57:25.295907Z"
    }
   },
   "outputs": [
    {
     "name": "stdout",
     "output_type": "stream",
     "text": [
      "3264 2448\n"
     ]
    }
   ],
   "source": [
    "print(props_2['width'],props_2['height'])"
   ]
  },
  {
   "cell_type": "code",
   "execution_count": 34,
   "metadata": {
    "ExecuteTime": {
     "end_time": "2021-03-01T08:17:14.185612Z",
     "start_time": "2021-03-01T08:17:14.097611Z"
    }
   },
   "outputs": [
    {
     "name": "stdout",
     "output_type": "stream",
     "text": [
      "{'index': 0, 'codec_name': 'h264', 'codec_long_name': 'H.264 / AVC / MPEG-4 AVC / MPEG-4 part 10', 'profile': 'High', 'codec_type': 'video', 'codec_time_base': '3070277/184230000', 'codec_tag_string': 'avc1', 'codec_tag': '0x31637661', 'width': 1280, 'height': 720, 'coded_width': 1280, 'coded_height': 720, 'has_b_frames': 0, 'sample_aspect_ratio': '1:1', 'display_aspect_ratio': '16:9', 'pix_fmt': 'yuvj420p', 'level': 31, 'color_range': 'pc', 'color_space': 'smpte170m', 'color_transfer': 'smpte170m', 'color_primaries': 'smpte170m', 'chroma_location': 'left', 'refs': 1, 'is_avc': 'true', 'nal_length_size': '4', 'r_frame_rate': '30/1', 'avg_frame_rate': '92115000/3070277', 'time_base': '1/90000', 'start_pts': 0, 'start_time': '0.000000', 'duration_ts': 6140554, 'duration': '68.228378', 'bit_rate': '14006789', 'bits_per_raw_sample': '8', 'nb_frames': '2047', 'disposition': {'default': 1, 'dub': 0, 'original': 0, 'comment': 0, 'lyrics': 0, 'karaoke': 0, 'forced': 0, 'hearing_impaired': 0, 'visual_impaired': 0, 'clean_effects': 0, 'attached_pic': 0, 'timed_thumbnails': 0}, 'tags': {'rotate': '90', 'creation_time': '2021-02-09T09:19:24.000000Z', 'language': 'eng', 'handler_name': 'VideoHandle'}, 'side_data_list': [{'side_data_type': 'Display Matrix', 'displaymatrix': '\\n00000000:            0       65536           0\\n00000001:       -65536           0           0\\n00000002:            0           0  1073741824\\n', 'rotation': -90}]}\n"
     ]
    }
   ],
   "source": [
    "path='video/p_koy1.mp4'\n",
    "from videoprops import get_video_properties\n",
    "props_2 =get_video_properties(path)\n",
    "print(props_2)"
   ]
  },
  {
   "cell_type": "code",
   "execution_count": 35,
   "metadata": {
    "ExecuteTime": {
     "end_time": "2021-03-01T08:17:20.994136Z",
     "start_time": "2021-03-01T08:17:20.982134Z"
    }
   },
   "outputs": [
    {
     "name": "stdout",
     "output_type": "stream",
     "text": [
      "1280 720 90\n"
     ]
    }
   ],
   "source": [
    "print(props_2['width'],props_2['height'],props_2['tags']['rotate'])"
   ]
  },
  {
   "cell_type": "code",
   "execution_count": 63,
   "metadata": {
    "ExecuteTime": {
     "end_time": "2021-03-01T09:03:07.341554Z",
     "start_time": "2021-03-01T09:03:07.247542Z"
    }
   },
   "outputs": [
    {
     "name": "stdout",
     "output_type": "stream",
     "text": [
      "{'index': 0, 'codec_name': 'h264', 'codec_long_name': 'H.264 / AVC / MPEG-4 AVC / MPEG-4 part 10', 'profile': 'High', 'codec_type': 'video', 'codec_time_base': '8953/537200', 'codec_tag_string': 'avc1', 'codec_tag': '0x31637661', 'width': 1080, 'height': 1440, 'coded_width': 1088, 'coded_height': 1440, 'has_b_frames': 0, 'pix_fmt': 'yuv420p', 'level': 40, 'color_range': 'tv', 'color_space': 'bt709', 'color_transfer': 'bt709', 'color_primaries': 'smpte432', 'chroma_location': 'left', 'refs': 1, 'is_avc': 'true', 'nal_length_size': '4', 'r_frame_rate': '30/1', 'avg_frame_rate': '268600/8953', 'time_base': '1/600', 'start_pts': 0, 'start_time': '0.000000', 'duration_ts': 26859, 'duration': '44.765000', 'bit_rate': '15324773', 'bits_per_raw_sample': '8', 'nb_frames': '1343', 'disposition': {'default': 1, 'dub': 0, 'original': 0, 'comment': 0, 'lyrics': 0, 'karaoke': 0, 'forced': 0, 'hearing_impaired': 0, 'visual_impaired': 0, 'clean_effects': 0, 'attached_pic': 0, 'timed_thumbnails': 0}, 'tags': {'creation_time': '2021-02-09T02:28:01.000000Z', 'language': 'und', 'handler_name': 'Core Media Video', 'encoder': 'H.264'}}\n"
     ]
    }
   ],
   "source": [
    "path='video/P_one2.mov'\n",
    "from videoprops import get_video_properties\n",
    "props_2 =get_video_properties(path)\n",
    "print(props_2)"
   ]
  },
  {
   "cell_type": "code",
   "execution_count": 64,
   "metadata": {
    "ExecuteTime": {
     "end_time": "2021-03-01T09:03:07.543528Z",
     "start_time": "2021-03-01T09:03:07.530515Z"
    }
   },
   "outputs": [
    {
     "name": "stdout",
     "output_type": "stream",
     "text": [
      "1080 1440\n"
     ]
    }
   ],
   "source": [
    "print(props_2['width'],props_2['height'])"
   ]
  },
  {
   "cell_type": "code",
   "execution_count": 65,
   "metadata": {
    "ExecuteTime": {
     "end_time": "2021-03-01T09:03:10.178640Z",
     "start_time": "2021-03-01T09:03:10.166599Z"
    }
   },
   "outputs": [],
   "source": [
    "x=props_2['width']\n",
    "y=props_2['height']"
   ]
  },
  {
   "cell_type": "code",
   "execution_count": 66,
   "metadata": {
    "ExecuteTime": {
     "end_time": "2021-03-01T09:03:10.397235Z",
     "start_time": "2021-03-01T09:03:10.378233Z"
    }
   },
   "outputs": [
    {
     "data": {
      "text/plain": [
       "1.3333333333333333"
      ]
     },
     "execution_count": 66,
     "metadata": {},
     "output_type": "execute_result"
    }
   ],
   "source": [
    "z=y/x\n",
    "z"
   ]
  },
  {
   "cell_type": "code",
   "execution_count": 69,
   "metadata": {
    "ExecuteTime": {
     "end_time": "2021-03-01T09:08:44.891887Z",
     "start_time": "2021-03-01T09:08:44.879887Z"
    }
   },
   "outputs": [],
   "source": [
    "def cal_resolution(props_2):\n",
    "    rotate=False\n",
    "    width =props_2['width']\n",
    "    height=props_2['height']\n",
    "    if width < height:\n",
    "        reso = width/height\n",
    "    else:\n",
    "        reso = height/width\n",
    "        rotate=True\n",
    "    if reso == 0.5625:\n",
    "        resize_v=576\n",
    "    else:\n",
    "        resize_v=768\n",
    "    print(reso)\n",
    "    return resize_v,rotate"
   ]
  },
  {
   "cell_type": "code",
   "execution_count": 70,
   "metadata": {
    "ExecuteTime": {
     "end_time": "2021-03-01T09:08:45.126196Z",
     "start_time": "2021-03-01T09:08:45.111194Z"
    }
   },
   "outputs": [
    {
     "name": "stdout",
     "output_type": "stream",
     "text": [
      "0.75\n"
     ]
    },
    {
     "data": {
      "text/plain": [
       "(768, False)"
      ]
     },
     "execution_count": 70,
     "metadata": {},
     "output_type": "execute_result"
    }
   ],
   "source": [
    "cal_resolution(props_2)"
   ]
  },
  {
   "cell_type": "code",
   "execution_count": 1,
   "metadata": {
    "ExecuteTime": {
     "end_time": "2021-03-01T10:10:39.102288Z",
     "start_time": "2021-03-01T10:10:34.949170Z"
    }
   },
   "outputs": [
    {
     "name": "stdout",
     "output_type": "stream",
     "text": [
      "Collecting tinytag\n",
      "  Downloading tinytag-1.5.0.tar.gz (28 kB)\n",
      "Using legacy 'setup.py install' for tinytag, since package 'wheel' is not installed.\n",
      "Installing collected packages: tinytag\n",
      "    Running setup.py install for tinytag: started\n",
      "    Running setup.py install for tinytag: finished with status 'done'\n",
      "Successfully installed tinytag-1.5.0\n"
     ]
    }
   ],
   "source": [
    "# !pip install tinytag\n"
   ]
  },
  {
   "cell_type": "code",
   "execution_count": null,
   "metadata": {},
   "outputs": [],
   "source": []
  }
 ],
 "metadata": {
  "kernelspec": {
   "display_name": "Python 3",
   "language": "python",
   "name": "python3"
  },
  "language_info": {
   "codemirror_mode": {
    "name": "ipython",
    "version": 3
   },
   "file_extension": ".py",
   "mimetype": "text/x-python",
   "name": "python",
   "nbconvert_exporter": "python",
   "pygments_lexer": "ipython3",
   "version": "3.7.1"
  }
 },
 "nbformat": 4,
 "nbformat_minor": 2
}
